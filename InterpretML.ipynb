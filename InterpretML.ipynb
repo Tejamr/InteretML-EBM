{
 "cells": [
  {
   "cell_type": "code",
   "execution_count": 1,
   "id": "4f63172a",
   "metadata": {},
   "outputs": [
    {
     "name": "stdout",
     "output_type": "stream",
     "text": [
      "Collecting interpret\n",
      "  Downloading interpret-0.2.7-py3-none-any.whl (1.4 kB)\n",
      "Collecting interpret-core[dash,debug,decisiontree,ebm,lime,linear,notebook,plotly,required,sensitivity,shap,skoperules,treeinterpreter]>=0.2.7\n",
      "  Downloading interpret_core-0.2.7-py3-none-any.whl (6.6 MB)\n",
      "\u001b[K     |████████████████████████████████| 6.6 MB 6.7 MB/s eta 0:00:01\n",
      "\u001b[?25hRequirement already satisfied: joblib>=0.11 in /home/tajasvi/anaconda3/envs/myenv/lib/python3.9/site-packages (from interpret-core[dash,debug,decisiontree,ebm,lime,linear,notebook,plotly,required,sensitivity,shap,skoperules,treeinterpreter]>=0.2.7->interpret) (1.1.0)\n",
      "Requirement already satisfied: scikit-learn>=0.18.1 in /home/tajasvi/anaconda3/envs/myenv/lib/python3.9/site-packages (from interpret-core[dash,debug,decisiontree,ebm,lime,linear,notebook,plotly,required,sensitivity,shap,skoperules,treeinterpreter]>=0.2.7->interpret) (1.0.2)\n",
      "Requirement already satisfied: numpy>=1.11.1 in /home/tajasvi/anaconda3/envs/myenv/lib/python3.9/site-packages (from interpret-core[dash,debug,decisiontree,ebm,lime,linear,notebook,plotly,required,sensitivity,shap,skoperules,treeinterpreter]>=0.2.7->interpret) (1.21.6)\n",
      "Requirement already satisfied: pandas>=0.19.2 in /home/tajasvi/anaconda3/envs/myenv/lib/python3.9/site-packages (from interpret-core[dash,debug,decisiontree,ebm,lime,linear,notebook,plotly,required,sensitivity,shap,skoperules,treeinterpreter]>=0.2.7->interpret) (1.4.1)\n",
      "Requirement already satisfied: scipy>=0.18.1 in /home/tajasvi/anaconda3/envs/myenv/lib/python3.9/site-packages (from interpret-core[dash,debug,decisiontree,ebm,lime,linear,notebook,plotly,required,sensitivity,shap,skoperules,treeinterpreter]>=0.2.7->interpret) (1.8.0)\n",
      "Collecting SALib>=1.3.3\n",
      "  Downloading SALib-1.4.5-py2.py3-none-any.whl (756 kB)\n",
      "\u001b[K     |████████████████████████████████| 756 kB 5.4 MB/s eta 0:00:01\n",
      "\u001b[?25hCollecting skope-rules>=1.0.1\n",
      "  Downloading skope_rules-1.0.1-py3-none-any.whl (14 kB)\n",
      "Collecting treeinterpreter>=0.2.2\n",
      "  Downloading treeinterpreter-0.2.3-py2.py3-none-any.whl (6.0 kB)\n",
      "Requirement already satisfied: ipykernel>=5.1.0 in /home/tajasvi/anaconda3/envs/myenv/lib/python3.9/site-packages (from interpret-core[dash,debug,decisiontree,ebm,lime,linear,notebook,plotly,required,sensitivity,shap,skoperules,treeinterpreter]>=0.2.7->interpret) (6.9.1)\n",
      "Requirement already satisfied: ipython>=7.4.0 in /home/tajasvi/anaconda3/envs/myenv/lib/python3.9/site-packages (from interpret-core[dash,debug,decisiontree,ebm,lime,linear,notebook,plotly,required,sensitivity,shap,skoperules,treeinterpreter]>=0.2.7->interpret) (8.1.1)\n",
      "Collecting plotly>=3.8.1\n",
      "  Downloading plotly-5.7.0-py2.py3-none-any.whl (28.8 MB)\n",
      "\u001b[K     |████████████████████████████████| 28.8 MB 512 kB/s eta 0:00:01\n",
      "\u001b[?25hCollecting psutil>=5.6.2\n",
      "  Using cached psutil-5.9.0-cp39-cp39-manylinux_2_12_x86_64.manylinux2010_x86_64.manylinux_2_17_x86_64.manylinux2014_x86_64.whl (280 kB)\n",
      "Requirement already satisfied: lime>=0.1.1.33 in /home/tajasvi/anaconda3/envs/myenv/lib/python3.9/site-packages (from interpret-core[dash,debug,decisiontree,ebm,lime,linear,notebook,plotly,required,sensitivity,shap,skoperules,treeinterpreter]>=0.2.7->interpret) (0.2.0.1)\n",
      "Requirement already satisfied: shap>=0.28.5 in /home/tajasvi/anaconda3/envs/myenv/lib/python3.9/site-packages (from interpret-core[dash,debug,decisiontree,ebm,lime,linear,notebook,plotly,required,sensitivity,shap,skoperules,treeinterpreter]>=0.2.7->interpret) (0.40.0)\n",
      "Collecting dill>=0.2.5\n",
      "  Downloading dill-0.3.4-py2.py3-none-any.whl (86 kB)\n",
      "\u001b[K     |████████████████████████████████| 86 kB 2.0 MB/s eta 0:00:01\n",
      "\u001b[?25hCollecting gevent>=1.3.6\n",
      "  Downloading gevent-21.12.0-cp39-cp39-manylinux_2_12_x86_64.manylinux2010_x86_64.whl (6.2 MB)\n",
      "\u001b[K     |████████████████████████████████| 6.2 MB 1.9 MB/s eta 0:00:01\n",
      "\u001b[?25hCollecting dash-cytoscape>=0.1.1\n",
      "  Downloading dash_cytoscape-0.3.0-py3-none-any.whl (3.6 MB)\n",
      "\u001b[K     |████████████████████████████████| 3.6 MB 3.6 MB/s eta 0:00:01\n",
      "\u001b[?25hCollecting dash>=1.0.0\n",
      "  Downloading dash-2.3.1-py3-none-any.whl (9.6 MB)\n",
      "\u001b[K     |████████████████████████████████| 9.6 MB 3.2 MB/s eta 0:00:01\n",
      "\u001b[?25hRequirement already satisfied: requests>=2.19.0 in /home/tajasvi/anaconda3/envs/myenv/lib/python3.9/site-packages (from interpret-core[dash,debug,decisiontree,ebm,lime,linear,notebook,plotly,required,sensitivity,shap,skoperules,treeinterpreter]>=0.2.7->interpret) (2.27.1)\n",
      "Collecting dash-table>=4.1.0\n",
      "  Downloading dash_table-5.0.0-py3-none-any.whl (3.9 kB)\n",
      "Collecting flask-compress\n",
      "  Downloading Flask_Compress-1.11-py3-none-any.whl (7.9 kB)\n",
      "Collecting dash-core-components==2.0.0\n",
      "  Downloading dash_core_components-2.0.0-py3-none-any.whl (3.8 kB)\n",
      "Requirement already satisfied: Flask>=1.0.4 in /home/tajasvi/anaconda3/envs/myenv/lib/python3.9/site-packages (from dash>=1.0.0->interpret-core[dash,debug,decisiontree,ebm,lime,linear,notebook,plotly,required,sensitivity,shap,skoperules,treeinterpreter]>=0.2.7->interpret) (2.1.1)\n",
      "Collecting dash-html-components==2.0.0\n",
      "  Downloading dash_html_components-2.0.0-py3-none-any.whl (4.1 kB)\n",
      "Requirement already satisfied: click>=8.0 in /home/tajasvi/anaconda3/envs/myenv/lib/python3.9/site-packages (from Flask>=1.0.4->dash>=1.0.0->interpret-core[dash,debug,decisiontree,ebm,lime,linear,notebook,plotly,required,sensitivity,shap,skoperules,treeinterpreter]>=0.2.7->interpret) (8.1.1)\n",
      "Requirement already satisfied: Werkzeug>=2.0 in /home/tajasvi/anaconda3/envs/myenv/lib/python3.9/site-packages (from Flask>=1.0.4->dash>=1.0.0->interpret-core[dash,debug,decisiontree,ebm,lime,linear,notebook,plotly,required,sensitivity,shap,skoperules,treeinterpreter]>=0.2.7->interpret) (2.1.0)\n",
      "Requirement already satisfied: Jinja2>=3.0 in /home/tajasvi/anaconda3/envs/myenv/lib/python3.9/site-packages (from Flask>=1.0.4->dash>=1.0.0->interpret-core[dash,debug,decisiontree,ebm,lime,linear,notebook,plotly,required,sensitivity,shap,skoperules,treeinterpreter]>=0.2.7->interpret) (3.0.3)\n",
      "Requirement already satisfied: importlib-metadata>=3.6.0 in /home/tajasvi/anaconda3/envs/myenv/lib/python3.9/site-packages (from Flask>=1.0.4->dash>=1.0.0->interpret-core[dash,debug,decisiontree,ebm,lime,linear,notebook,plotly,required,sensitivity,shap,skoperules,treeinterpreter]>=0.2.7->interpret) (4.8.2)\n",
      "Requirement already satisfied: itsdangerous>=2.0 in /home/tajasvi/anaconda3/envs/myenv/lib/python3.9/site-packages (from Flask>=1.0.4->dash>=1.0.0->interpret-core[dash,debug,decisiontree,ebm,lime,linear,notebook,plotly,required,sensitivity,shap,skoperules,treeinterpreter]>=0.2.7->interpret) (2.1.2)\n",
      "Requirement already satisfied: setuptools in /home/tajasvi/anaconda3/envs/myenv/lib/python3.9/site-packages (from gevent>=1.3.6->interpret-core[dash,debug,decisiontree,ebm,lime,linear,notebook,plotly,required,sensitivity,shap,skoperules,treeinterpreter]>=0.2.7->interpret) (58.0.4)\n",
      "Collecting greenlet<2.0,>=1.1.0\n",
      "  Downloading greenlet-1.1.2-cp39-cp39-manylinux_2_17_x86_64.manylinux2014_x86_64.whl (153 kB)\n",
      "\u001b[K     |████████████████████████████████| 153 kB 5.6 MB/s eta 0:00:01\n",
      "\u001b[?25hCollecting zope.event\n",
      "  Downloading zope.event-4.5.0-py2.py3-none-any.whl (6.8 kB)\n",
      "Collecting zope.interface\n",
      "  Downloading zope.interface-5.4.0-cp39-cp39-manylinux2010_x86_64.whl (255 kB)\n",
      "\u001b[K     |████████████████████████████████| 255 kB 3.8 MB/s eta 0:00:01\n",
      "\u001b[?25hRequirement already satisfied: zipp>=0.5 in /home/tajasvi/anaconda3/envs/myenv/lib/python3.9/site-packages (from importlib-metadata>=3.6.0->Flask>=1.0.4->dash>=1.0.0->interpret-core[dash,debug,decisiontree,ebm,lime,linear,notebook,plotly,required,sensitivity,shap,skoperules,treeinterpreter]>=0.2.7->interpret) (3.7.0)\n",
      "Requirement already satisfied: debugpy<2.0,>=1.0.0 in /home/tajasvi/anaconda3/envs/myenv/lib/python3.9/site-packages (from ipykernel>=5.1.0->interpret-core[dash,debug,decisiontree,ebm,lime,linear,notebook,plotly,required,sensitivity,shap,skoperules,treeinterpreter]>=0.2.7->interpret) (1.5.1)\n",
      "Requirement already satisfied: tornado<7.0,>=4.2 in /home/tajasvi/anaconda3/envs/myenv/lib/python3.9/site-packages (from ipykernel>=5.1.0->interpret-core[dash,debug,decisiontree,ebm,lime,linear,notebook,plotly,required,sensitivity,shap,skoperules,treeinterpreter]>=0.2.7->interpret) (6.1)\n",
      "Requirement already satisfied: matplotlib-inline<0.2.0,>=0.1.0 in /home/tajasvi/anaconda3/envs/myenv/lib/python3.9/site-packages (from ipykernel>=5.1.0->interpret-core[dash,debug,decisiontree,ebm,lime,linear,notebook,plotly,required,sensitivity,shap,skoperules,treeinterpreter]>=0.2.7->interpret) (0.1.2)\n",
      "Requirement already satisfied: jupyter-client<8.0 in /home/tajasvi/anaconda3/envs/myenv/lib/python3.9/site-packages (from ipykernel>=5.1.0->interpret-core[dash,debug,decisiontree,ebm,lime,linear,notebook,plotly,required,sensitivity,shap,skoperules,treeinterpreter]>=0.2.7->interpret) (7.1.2)\n",
      "Requirement already satisfied: nest-asyncio in /home/tajasvi/anaconda3/envs/myenv/lib/python3.9/site-packages (from ipykernel>=5.1.0->interpret-core[dash,debug,decisiontree,ebm,lime,linear,notebook,plotly,required,sensitivity,shap,skoperules,treeinterpreter]>=0.2.7->interpret) (1.5.1)\n",
      "Requirement already satisfied: traitlets<6.0,>=5.1.0 in /home/tajasvi/anaconda3/envs/myenv/lib/python3.9/site-packages (from ipykernel>=5.1.0->interpret-core[dash,debug,decisiontree,ebm,lime,linear,notebook,plotly,required,sensitivity,shap,skoperules,treeinterpreter]>=0.2.7->interpret) (5.1.1)\n"
     ]
    },
    {
     "name": "stdout",
     "output_type": "stream",
     "text": [
      "Requirement already satisfied: jedi>=0.16 in /home/tajasvi/anaconda3/envs/myenv/lib/python3.9/site-packages (from ipython>=7.4.0->interpret-core[dash,debug,decisiontree,ebm,lime,linear,notebook,plotly,required,sensitivity,shap,skoperules,treeinterpreter]>=0.2.7->interpret) (0.18.1)\n",
      "Requirement already satisfied: decorator in /home/tajasvi/anaconda3/envs/myenv/lib/python3.9/site-packages (from ipython>=7.4.0->interpret-core[dash,debug,decisiontree,ebm,lime,linear,notebook,plotly,required,sensitivity,shap,skoperules,treeinterpreter]>=0.2.7->interpret) (4.4.2)\n",
      "Requirement already satisfied: pygments>=2.4.0 in /home/tajasvi/anaconda3/envs/myenv/lib/python3.9/site-packages (from ipython>=7.4.0->interpret-core[dash,debug,decisiontree,ebm,lime,linear,notebook,plotly,required,sensitivity,shap,skoperules,treeinterpreter]>=0.2.7->interpret) (2.11.2)\n",
      "Requirement already satisfied: prompt-toolkit!=3.0.0,!=3.0.1,<3.1.0,>=2.0.0 in /home/tajasvi/anaconda3/envs/myenv/lib/python3.9/site-packages (from ipython>=7.4.0->interpret-core[dash,debug,decisiontree,ebm,lime,linear,notebook,plotly,required,sensitivity,shap,skoperules,treeinterpreter]>=0.2.7->interpret) (3.0.20)\n",
      "Requirement already satisfied: backcall in /home/tajasvi/anaconda3/envs/myenv/lib/python3.9/site-packages (from ipython>=7.4.0->interpret-core[dash,debug,decisiontree,ebm,lime,linear,notebook,plotly,required,sensitivity,shap,skoperules,treeinterpreter]>=0.2.7->interpret) (0.2.0)\n",
      "Requirement already satisfied: stack-data in /home/tajasvi/anaconda3/envs/myenv/lib/python3.9/site-packages (from ipython>=7.4.0->interpret-core[dash,debug,decisiontree,ebm,lime,linear,notebook,plotly,required,sensitivity,shap,skoperules,treeinterpreter]>=0.2.7->interpret) (0.2.0)\n",
      "Requirement already satisfied: pickleshare in /home/tajasvi/anaconda3/envs/myenv/lib/python3.9/site-packages (from ipython>=7.4.0->interpret-core[dash,debug,decisiontree,ebm,lime,linear,notebook,plotly,required,sensitivity,shap,skoperules,treeinterpreter]>=0.2.7->interpret) (0.7.5)\n",
      "Requirement already satisfied: pexpect>4.3 in /home/tajasvi/anaconda3/envs/myenv/lib/python3.9/site-packages (from ipython>=7.4.0->interpret-core[dash,debug,decisiontree,ebm,lime,linear,notebook,plotly,required,sensitivity,shap,skoperules,treeinterpreter]>=0.2.7->interpret) (4.8.0)\n",
      "Requirement already satisfied: parso<0.9.0,>=0.8.0 in /home/tajasvi/anaconda3/envs/myenv/lib/python3.9/site-packages (from jedi>=0.16->ipython>=7.4.0->interpret-core[dash,debug,decisiontree,ebm,lime,linear,notebook,plotly,required,sensitivity,shap,skoperules,treeinterpreter]>=0.2.7->interpret) (0.8.3)\n",
      "Requirement already satisfied: MarkupSafe>=2.0 in /home/tajasvi/anaconda3/envs/myenv/lib/python3.9/site-packages (from Jinja2>=3.0->Flask>=1.0.4->dash>=1.0.0->interpret-core[dash,debug,decisiontree,ebm,lime,linear,notebook,plotly,required,sensitivity,shap,skoperules,treeinterpreter]>=0.2.7->interpret) (2.0.1)\n",
      "Requirement already satisfied: jupyter-core>=4.6.0 in /home/tajasvi/anaconda3/envs/myenv/lib/python3.9/site-packages (from jupyter-client<8.0->ipykernel>=5.1.0->interpret-core[dash,debug,decisiontree,ebm,lime,linear,notebook,plotly,required,sensitivity,shap,skoperules,treeinterpreter]>=0.2.7->interpret) (4.9.2)\n",
      "Requirement already satisfied: pyzmq>=13 in /home/tajasvi/anaconda3/envs/myenv/lib/python3.9/site-packages (from jupyter-client<8.0->ipykernel>=5.1.0->interpret-core[dash,debug,decisiontree,ebm,lime,linear,notebook,plotly,required,sensitivity,shap,skoperules,treeinterpreter]>=0.2.7->interpret) (22.3.0)\n",
      "Requirement already satisfied: python-dateutil>=2.1 in /home/tajasvi/anaconda3/envs/myenv/lib/python3.9/site-packages (from jupyter-client<8.0->ipykernel>=5.1.0->interpret-core[dash,debug,decisiontree,ebm,lime,linear,notebook,plotly,required,sensitivity,shap,skoperules,treeinterpreter]>=0.2.7->interpret) (2.8.2)\n",
      "Requirement already satisfied: entrypoints in /home/tajasvi/anaconda3/envs/myenv/lib/python3.9/site-packages (from jupyter-client<8.0->ipykernel>=5.1.0->interpret-core[dash,debug,decisiontree,ebm,lime,linear,notebook,plotly,required,sensitivity,shap,skoperules,treeinterpreter]>=0.2.7->interpret) (0.3)\n",
      "Requirement already satisfied: scikit-image>=0.12 in /home/tajasvi/anaconda3/envs/myenv/lib/python3.9/site-packages (from lime>=0.1.1.33->interpret-core[dash,debug,decisiontree,ebm,lime,linear,notebook,plotly,required,sensitivity,shap,skoperules,treeinterpreter]>=0.2.7->interpret) (0.19.2)\n",
      "Requirement already satisfied: matplotlib in /home/tajasvi/anaconda3/envs/myenv/lib/python3.9/site-packages (from lime>=0.1.1.33->interpret-core[dash,debug,decisiontree,ebm,lime,linear,notebook,plotly,required,sensitivity,shap,skoperules,treeinterpreter]>=0.2.7->interpret) (3.5.1)\n",
      "Requirement already satisfied: tqdm in /home/tajasvi/anaconda3/envs/myenv/lib/python3.9/site-packages (from lime>=0.1.1.33->interpret-core[dash,debug,decisiontree,ebm,lime,linear,notebook,plotly,required,sensitivity,shap,skoperules,treeinterpreter]>=0.2.7->interpret) (4.63.1)\n",
      "Requirement already satisfied: pytz>=2020.1 in /home/tajasvi/anaconda3/envs/myenv/lib/python3.9/site-packages (from pandas>=0.19.2->interpret-core[dash,debug,decisiontree,ebm,lime,linear,notebook,plotly,required,sensitivity,shap,skoperules,treeinterpreter]>=0.2.7->interpret) (2022.1)\n",
      "Requirement already satisfied: ptyprocess>=0.5 in /home/tajasvi/anaconda3/envs/myenv/lib/python3.9/site-packages (from pexpect>4.3->ipython>=7.4.0->interpret-core[dash,debug,decisiontree,ebm,lime,linear,notebook,plotly,required,sensitivity,shap,skoperules,treeinterpreter]>=0.2.7->interpret) (0.7.0)\n",
      "Collecting tenacity>=6.2.0\n",
      "  Downloading tenacity-8.0.1-py3-none-any.whl (24 kB)\n",
      "Requirement already satisfied: six in /home/tajasvi/anaconda3/envs/myenv/lib/python3.9/site-packages (from plotly>=3.8.1->interpret-core[dash,debug,decisiontree,ebm,lime,linear,notebook,plotly,required,sensitivity,shap,skoperules,treeinterpreter]>=0.2.7->interpret) (1.16.0)\n",
      "Requirement already satisfied: wcwidth in /home/tajasvi/anaconda3/envs/myenv/lib/python3.9/site-packages (from prompt-toolkit!=3.0.0,!=3.0.1,<3.1.0,>=2.0.0->ipython>=7.4.0->interpret-core[dash,debug,decisiontree,ebm,lime,linear,notebook,plotly,required,sensitivity,shap,skoperules,treeinterpreter]>=0.2.7->interpret) (0.2.5)\n",
      "Requirement already satisfied: certifi>=2017.4.17 in /home/tajasvi/anaconda3/envs/myenv/lib/python3.9/site-packages (from requests>=2.19.0->interpret-core[dash,debug,decisiontree,ebm,lime,linear,notebook,plotly,required,sensitivity,shap,skoperules,treeinterpreter]>=0.2.7->interpret) (2021.10.8)\n",
      "Requirement already satisfied: charset-normalizer~=2.0.0 in /home/tajasvi/anaconda3/envs/myenv/lib/python3.9/site-packages (from requests>=2.19.0->interpret-core[dash,debug,decisiontree,ebm,lime,linear,notebook,plotly,required,sensitivity,shap,skoperules,treeinterpreter]>=0.2.7->interpret) (2.0.12)\n",
      "Requirement already satisfied: idna<4,>=2.5 in /home/tajasvi/anaconda3/envs/myenv/lib/python3.9/site-packages (from requests>=2.19.0->interpret-core[dash,debug,decisiontree,ebm,lime,linear,notebook,plotly,required,sensitivity,shap,skoperules,treeinterpreter]>=0.2.7->interpret) (3.3)\n",
      "Requirement already satisfied: urllib3<1.27,>=1.21.1 in /home/tajasvi/anaconda3/envs/myenv/lib/python3.9/site-packages (from requests>=2.19.0->interpret-core[dash,debug,decisiontree,ebm,lime,linear,notebook,plotly,required,sensitivity,shap,skoperules,treeinterpreter]>=0.2.7->interpret) (1.26.9)\n",
      "Collecting pathos\n",
      "  Downloading pathos-0.2.8-py2.py3-none-any.whl (81 kB)\n",
      "\u001b[K     |████████████████████████████████| 81 kB 2.5 MB/s eta 0:00:01\n",
      "\u001b[?25hRequirement already satisfied: wheel in /home/tajasvi/anaconda3/envs/myenv/lib/python3.9/site-packages (from SALib>=1.3.3->interpret-core[dash,debug,decisiontree,ebm,lime,linear,notebook,plotly,required,sensitivity,shap,skoperules,treeinterpreter]>=0.2.7->interpret) (0.37.1)\n",
      "Requirement already satisfied: tifffile>=2019.7.26 in /home/tajasvi/anaconda3/envs/myenv/lib/python3.9/site-packages (from scikit-image>=0.12->lime>=0.1.1.33->interpret-core[dash,debug,decisiontree,ebm,lime,linear,notebook,plotly,required,sensitivity,shap,skoperules,treeinterpreter]>=0.2.7->interpret) (2022.3.25)\n",
      "Requirement already satisfied: imageio>=2.4.1 in /home/tajasvi/anaconda3/envs/myenv/lib/python3.9/site-packages (from scikit-image>=0.12->lime>=0.1.1.33->interpret-core[dash,debug,decisiontree,ebm,lime,linear,notebook,plotly,required,sensitivity,shap,skoperules,treeinterpreter]>=0.2.7->interpret) (2.16.1)\n",
      "Requirement already satisfied: pillow!=7.1.0,!=7.1.1,!=8.3.0,>=6.1.0 in /home/tajasvi/anaconda3/envs/myenv/lib/python3.9/site-packages (from scikit-image>=0.12->lime>=0.1.1.33->interpret-core[dash,debug,decisiontree,ebm,lime,linear,notebook,plotly,required,sensitivity,shap,skoperules,treeinterpreter]>=0.2.7->interpret) (9.0.1)\n",
      "Requirement already satisfied: packaging>=20.0 in /home/tajasvi/anaconda3/envs/myenv/lib/python3.9/site-packages (from scikit-image>=0.12->lime>=0.1.1.33->interpret-core[dash,debug,decisiontree,ebm,lime,linear,notebook,plotly,required,sensitivity,shap,skoperules,treeinterpreter]>=0.2.7->interpret) (21.3)\n",
      "Requirement already satisfied: networkx>=2.2 in /home/tajasvi/anaconda3/envs/myenv/lib/python3.9/site-packages (from scikit-image>=0.12->lime>=0.1.1.33->interpret-core[dash,debug,decisiontree,ebm,lime,linear,notebook,plotly,required,sensitivity,shap,skoperules,treeinterpreter]>=0.2.7->interpret) (2.7.1)\n",
      "Requirement already satisfied: PyWavelets>=1.1.1 in /home/tajasvi/anaconda3/envs/myenv/lib/python3.9/site-packages (from scikit-image>=0.12->lime>=0.1.1.33->interpret-core[dash,debug,decisiontree,ebm,lime,linear,notebook,plotly,required,sensitivity,shap,skoperules,treeinterpreter]>=0.2.7->interpret) (1.3.0)\n"
     ]
    },
    {
     "name": "stdout",
     "output_type": "stream",
     "text": [
      "Requirement already satisfied: pyparsing!=3.0.5,>=2.0.2 in /home/tajasvi/anaconda3/envs/myenv/lib/python3.9/site-packages (from packaging>=20.0->scikit-image>=0.12->lime>=0.1.1.33->interpret-core[dash,debug,decisiontree,ebm,lime,linear,notebook,plotly,required,sensitivity,shap,skoperules,treeinterpreter]>=0.2.7->interpret) (3.0.4)\n",
      "Requirement already satisfied: threadpoolctl>=2.0.0 in /home/tajasvi/anaconda3/envs/myenv/lib/python3.9/site-packages (from scikit-learn>=0.18.1->interpret-core[dash,debug,decisiontree,ebm,lime,linear,notebook,plotly,required,sensitivity,shap,skoperules,treeinterpreter]>=0.2.7->interpret) (3.1.0)\n",
      "Requirement already satisfied: slicer==0.0.7 in /home/tajasvi/anaconda3/envs/myenv/lib/python3.9/site-packages (from shap>=0.28.5->interpret-core[dash,debug,decisiontree,ebm,lime,linear,notebook,plotly,required,sensitivity,shap,skoperules,treeinterpreter]>=0.2.7->interpret) (0.0.7)\n",
      "Requirement already satisfied: numba in /home/tajasvi/anaconda3/envs/myenv/lib/python3.9/site-packages (from shap>=0.28.5->interpret-core[dash,debug,decisiontree,ebm,lime,linear,notebook,plotly,required,sensitivity,shap,skoperules,treeinterpreter]>=0.2.7->interpret) (0.53.0)\n",
      "Requirement already satisfied: cloudpickle in /home/tajasvi/anaconda3/envs/myenv/lib/python3.9/site-packages (from shap>=0.28.5->interpret-core[dash,debug,decisiontree,ebm,lime,linear,notebook,plotly,required,sensitivity,shap,skoperules,treeinterpreter]>=0.2.7->interpret) (2.0.0)\n",
      "Collecting brotli\n",
      "  Downloading Brotli-1.0.9-cp39-cp39-manylinux1_x86_64.whl (357 kB)\n",
      "\u001b[K     |████████████████████████████████| 357 kB 4.0 MB/s eta 0:00:01\n",
      "\u001b[?25hRequirement already satisfied: fonttools>=4.22.0 in /home/tajasvi/anaconda3/envs/myenv/lib/python3.9/site-packages (from matplotlib->lime>=0.1.1.33->interpret-core[dash,debug,decisiontree,ebm,lime,linear,notebook,plotly,required,sensitivity,shap,skoperules,treeinterpreter]>=0.2.7->interpret) (4.31.2)\n",
      "Requirement already satisfied: cycler>=0.10 in /home/tajasvi/anaconda3/envs/myenv/lib/python3.9/site-packages (from matplotlib->lime>=0.1.1.33->interpret-core[dash,debug,decisiontree,ebm,lime,linear,notebook,plotly,required,sensitivity,shap,skoperules,treeinterpreter]>=0.2.7->interpret) (0.11.0)\n",
      "Requirement already satisfied: kiwisolver>=1.0.1 in /home/tajasvi/anaconda3/envs/myenv/lib/python3.9/site-packages (from matplotlib->lime>=0.1.1.33->interpret-core[dash,debug,decisiontree,ebm,lime,linear,notebook,plotly,required,sensitivity,shap,skoperules,treeinterpreter]>=0.2.7->interpret) (1.4.2)\n",
      "Requirement already satisfied: llvmlite<0.37,>=0.36.0rc1 in /home/tajasvi/anaconda3/envs/myenv/lib/python3.9/site-packages (from numba->shap>=0.28.5->interpret-core[dash,debug,decisiontree,ebm,lime,linear,notebook,plotly,required,sensitivity,shap,skoperules,treeinterpreter]>=0.2.7->interpret) (0.36.0)\n",
      "Collecting multiprocess>=0.70.12\n",
      "  Downloading multiprocess-0.70.12.2-py39-none-any.whl (128 kB)\n",
      "\u001b[K     |████████████████████████████████| 128 kB 4.5 MB/s eta 0:00:01\n",
      "\u001b[?25hCollecting ppft>=1.6.6.4\n",
      "  Downloading ppft-1.6.6.4-py3-none-any.whl (65 kB)\n",
      "\u001b[K     |████████████████████████████████| 65 kB 3.2 MB/s  eta 0:00:01\n",
      "\u001b[?25hCollecting pox>=0.3.0\n",
      "  Downloading pox-0.3.0-py2.py3-none-any.whl (30 kB)\n",
      "Requirement already satisfied: pure-eval in /home/tajasvi/anaconda3/envs/myenv/lib/python3.9/site-packages (from stack-data->ipython>=7.4.0->interpret-core[dash,debug,decisiontree,ebm,lime,linear,notebook,plotly,required,sensitivity,shap,skoperules,treeinterpreter]>=0.2.7->interpret) (0.2.2)\n",
      "Requirement already satisfied: asttokens in /home/tajasvi/anaconda3/envs/myenv/lib/python3.9/site-packages (from stack-data->ipython>=7.4.0->interpret-core[dash,debug,decisiontree,ebm,lime,linear,notebook,plotly,required,sensitivity,shap,skoperules,treeinterpreter]>=0.2.7->interpret) (2.0.5)\n",
      "Requirement already satisfied: executing in /home/tajasvi/anaconda3/envs/myenv/lib/python3.9/site-packages (from stack-data->ipython>=7.4.0->interpret-core[dash,debug,decisiontree,ebm,lime,linear,notebook,plotly,required,sensitivity,shap,skoperules,treeinterpreter]>=0.2.7->interpret) (0.8.3)\n",
      "Installing collected packages: tenacity, dill, brotli, ppft, pox, plotly, multiprocess, flask-compress, dash-table, dash-html-components, dash-core-components, zope.interface, zope.event, pathos, greenlet, dash, treeinterpreter, skope-rules, SALib, psutil, interpret-core, gevent, dash-cytoscape, interpret\n",
      "Successfully installed SALib-1.4.5 brotli-1.0.9 dash-2.3.1 dash-core-components-2.0.0 dash-cytoscape-0.3.0 dash-html-components-2.0.0 dash-table-5.0.0 dill-0.3.4 flask-compress-1.11 gevent-21.12.0 greenlet-1.1.2 interpret-0.2.7 interpret-core-0.2.7 multiprocess-0.70.12.2 pathos-0.2.8 plotly-5.7.0 pox-0.3.0 ppft-1.6.6.4 psutil-5.9.0 skope-rules-1.0.1 tenacity-8.0.1 treeinterpreter-0.2.3 zope.event-4.5.0 zope.interface-5.4.0\n"
     ]
    }
   ],
   "source": [
    "!pip install interpret"
   ]
  },
  {
   "cell_type": "code",
   "execution_count": 2,
   "id": "15533533",
   "metadata": {},
   "outputs": [],
   "source": [
    "import pandas as pd\n",
    "import numpy as np\n",
    "import matplotlib.pyplot as plt\n",
    "%matplotlib inline\n",
    "import seaborn as sns"
   ]
  },
  {
   "cell_type": "code",
   "execution_count": 3,
   "id": "56ceea99",
   "metadata": {},
   "outputs": [],
   "source": [
    "df = pd.read_csv(\"diabetes.csv\")"
   ]
  },
  {
   "cell_type": "code",
   "execution_count": 4,
   "id": "5f63354f",
   "metadata": {},
   "outputs": [
    {
     "data": {
      "text/html": [
       "<div>\n",
       "<style scoped>\n",
       "    .dataframe tbody tr th:only-of-type {\n",
       "        vertical-align: middle;\n",
       "    }\n",
       "\n",
       "    .dataframe tbody tr th {\n",
       "        vertical-align: top;\n",
       "    }\n",
       "\n",
       "    .dataframe thead th {\n",
       "        text-align: right;\n",
       "    }\n",
       "</style>\n",
       "<table border=\"1\" class=\"dataframe\">\n",
       "  <thead>\n",
       "    <tr style=\"text-align: right;\">\n",
       "      <th></th>\n",
       "      <th>Pregnancies</th>\n",
       "      <th>Glucose</th>\n",
       "      <th>BloodPressure</th>\n",
       "      <th>SkinThickness</th>\n",
       "      <th>Insulin</th>\n",
       "      <th>BMI</th>\n",
       "      <th>DiabetesPedigreeFunction</th>\n",
       "      <th>Age</th>\n",
       "      <th>Outcome</th>\n",
       "    </tr>\n",
       "  </thead>\n",
       "  <tbody>\n",
       "    <tr>\n",
       "      <th>0</th>\n",
       "      <td>6</td>\n",
       "      <td>148</td>\n",
       "      <td>72</td>\n",
       "      <td>35</td>\n",
       "      <td>0</td>\n",
       "      <td>33.6</td>\n",
       "      <td>0.627</td>\n",
       "      <td>50</td>\n",
       "      <td>1</td>\n",
       "    </tr>\n",
       "    <tr>\n",
       "      <th>1</th>\n",
       "      <td>1</td>\n",
       "      <td>85</td>\n",
       "      <td>66</td>\n",
       "      <td>29</td>\n",
       "      <td>0</td>\n",
       "      <td>26.6</td>\n",
       "      <td>0.351</td>\n",
       "      <td>31</td>\n",
       "      <td>0</td>\n",
       "    </tr>\n",
       "    <tr>\n",
       "      <th>2</th>\n",
       "      <td>8</td>\n",
       "      <td>183</td>\n",
       "      <td>64</td>\n",
       "      <td>0</td>\n",
       "      <td>0</td>\n",
       "      <td>23.3</td>\n",
       "      <td>0.672</td>\n",
       "      <td>32</td>\n",
       "      <td>1</td>\n",
       "    </tr>\n",
       "    <tr>\n",
       "      <th>3</th>\n",
       "      <td>1</td>\n",
       "      <td>89</td>\n",
       "      <td>66</td>\n",
       "      <td>23</td>\n",
       "      <td>94</td>\n",
       "      <td>28.1</td>\n",
       "      <td>0.167</td>\n",
       "      <td>21</td>\n",
       "      <td>0</td>\n",
       "    </tr>\n",
       "    <tr>\n",
       "      <th>4</th>\n",
       "      <td>0</td>\n",
       "      <td>137</td>\n",
       "      <td>40</td>\n",
       "      <td>35</td>\n",
       "      <td>168</td>\n",
       "      <td>43.1</td>\n",
       "      <td>2.288</td>\n",
       "      <td>33</td>\n",
       "      <td>1</td>\n",
       "    </tr>\n",
       "  </tbody>\n",
       "</table>\n",
       "</div>"
      ],
      "text/plain": [
       "   Pregnancies  Glucose  BloodPressure  SkinThickness  Insulin   BMI  \\\n",
       "0            6      148             72             35        0  33.6   \n",
       "1            1       85             66             29        0  26.6   \n",
       "2            8      183             64              0        0  23.3   \n",
       "3            1       89             66             23       94  28.1   \n",
       "4            0      137             40             35      168  43.1   \n",
       "\n",
       "   DiabetesPedigreeFunction  Age  Outcome  \n",
       "0                     0.627   50        1  \n",
       "1                     0.351   31        0  \n",
       "2                     0.672   32        1  \n",
       "3                     0.167   21        0  \n",
       "4                     2.288   33        1  "
      ]
     },
     "execution_count": 4,
     "metadata": {},
     "output_type": "execute_result"
    }
   ],
   "source": [
    "df.head()"
   ]
  },
  {
   "cell_type": "code",
   "execution_count": 5,
   "id": "854000ec",
   "metadata": {},
   "outputs": [
    {
     "data": {
      "text/html": [
       "<div>\n",
       "<style scoped>\n",
       "    .dataframe tbody tr th:only-of-type {\n",
       "        vertical-align: middle;\n",
       "    }\n",
       "\n",
       "    .dataframe tbody tr th {\n",
       "        vertical-align: top;\n",
       "    }\n",
       "\n",
       "    .dataframe thead th {\n",
       "        text-align: right;\n",
       "    }\n",
       "</style>\n",
       "<table border=\"1\" class=\"dataframe\">\n",
       "  <thead>\n",
       "    <tr style=\"text-align: right;\">\n",
       "      <th></th>\n",
       "      <th>Pregnancies</th>\n",
       "      <th>Glucose</th>\n",
       "      <th>BloodPressure</th>\n",
       "      <th>SkinThickness</th>\n",
       "      <th>Insulin</th>\n",
       "      <th>BMI</th>\n",
       "      <th>DiabetesPedigreeFunction</th>\n",
       "      <th>Age</th>\n",
       "      <th>Outcome</th>\n",
       "    </tr>\n",
       "  </thead>\n",
       "  <tbody>\n",
       "    <tr>\n",
       "      <th>763</th>\n",
       "      <td>10</td>\n",
       "      <td>101</td>\n",
       "      <td>76</td>\n",
       "      <td>48</td>\n",
       "      <td>180</td>\n",
       "      <td>32.9</td>\n",
       "      <td>0.171</td>\n",
       "      <td>63</td>\n",
       "      <td>0</td>\n",
       "    </tr>\n",
       "    <tr>\n",
       "      <th>764</th>\n",
       "      <td>2</td>\n",
       "      <td>122</td>\n",
       "      <td>70</td>\n",
       "      <td>27</td>\n",
       "      <td>0</td>\n",
       "      <td>36.8</td>\n",
       "      <td>0.340</td>\n",
       "      <td>27</td>\n",
       "      <td>0</td>\n",
       "    </tr>\n",
       "    <tr>\n",
       "      <th>765</th>\n",
       "      <td>5</td>\n",
       "      <td>121</td>\n",
       "      <td>72</td>\n",
       "      <td>23</td>\n",
       "      <td>112</td>\n",
       "      <td>26.2</td>\n",
       "      <td>0.245</td>\n",
       "      <td>30</td>\n",
       "      <td>0</td>\n",
       "    </tr>\n",
       "    <tr>\n",
       "      <th>766</th>\n",
       "      <td>1</td>\n",
       "      <td>126</td>\n",
       "      <td>60</td>\n",
       "      <td>0</td>\n",
       "      <td>0</td>\n",
       "      <td>30.1</td>\n",
       "      <td>0.349</td>\n",
       "      <td>47</td>\n",
       "      <td>1</td>\n",
       "    </tr>\n",
       "    <tr>\n",
       "      <th>767</th>\n",
       "      <td>1</td>\n",
       "      <td>93</td>\n",
       "      <td>70</td>\n",
       "      <td>31</td>\n",
       "      <td>0</td>\n",
       "      <td>30.4</td>\n",
       "      <td>0.315</td>\n",
       "      <td>23</td>\n",
       "      <td>0</td>\n",
       "    </tr>\n",
       "  </tbody>\n",
       "</table>\n",
       "</div>"
      ],
      "text/plain": [
       "     Pregnancies  Glucose  BloodPressure  SkinThickness  Insulin   BMI  \\\n",
       "763           10      101             76             48      180  32.9   \n",
       "764            2      122             70             27        0  36.8   \n",
       "765            5      121             72             23      112  26.2   \n",
       "766            1      126             60              0        0  30.1   \n",
       "767            1       93             70             31        0  30.4   \n",
       "\n",
       "     DiabetesPedigreeFunction  Age  Outcome  \n",
       "763                     0.171   63        0  \n",
       "764                     0.340   27        0  \n",
       "765                     0.245   30        0  \n",
       "766                     0.349   47        1  \n",
       "767                     0.315   23        0  "
      ]
     },
     "execution_count": 5,
     "metadata": {},
     "output_type": "execute_result"
    }
   ],
   "source": [
    "df.tail()"
   ]
  },
  {
   "cell_type": "code",
   "execution_count": 6,
   "id": "052a95c2",
   "metadata": {},
   "outputs": [],
   "source": [
    "X = df.drop('Outcome',axis = 1)"
   ]
  },
  {
   "cell_type": "code",
   "execution_count": 7,
   "id": "00d7620b",
   "metadata": {},
   "outputs": [],
   "source": [
    "y = df['Outcome']"
   ]
  },
  {
   "cell_type": "code",
   "execution_count": 8,
   "id": "9d14d91b",
   "metadata": {},
   "outputs": [
    {
     "data": {
      "text/plain": [
       "0    1\n",
       "1    0\n",
       "2    1\n",
       "3    0\n",
       "4    1\n",
       "Name: Outcome, dtype: int64"
      ]
     },
     "execution_count": 8,
     "metadata": {},
     "output_type": "execute_result"
    }
   ],
   "source": [
    "y.head()"
   ]
  },
  {
   "cell_type": "code",
   "execution_count": 9,
   "id": "e3f2b2a4",
   "metadata": {},
   "outputs": [],
   "source": [
    "from sklearn.model_selection import train_test_split\n",
    "X_train, X_test, y_train, y_test = train_test_split(X,y,test_size = 0.2,random_state = 1)"
   ]
  },
  {
   "cell_type": "code",
   "execution_count": 10,
   "id": "2d4b1c9d",
   "metadata": {},
   "outputs": [],
   "source": [
    "from sklearn.ensemble import RandomForestClassifier\n",
    "model = RandomForestClassifier()"
   ]
  },
  {
   "cell_type": "code",
   "execution_count": 11,
   "id": "c22902e0",
   "metadata": {},
   "outputs": [
    {
     "data": {
      "text/plain": [
       "RandomForestClassifier()"
      ]
     },
     "execution_count": 11,
     "metadata": {},
     "output_type": "execute_result"
    }
   ],
   "source": [
    "model.fit(X_train,y_train)"
   ]
  },
  {
   "cell_type": "code",
   "execution_count": 13,
   "id": "a71f9ef5",
   "metadata": {},
   "outputs": [],
   "source": [
    "y_pred = model.predict(X_test)"
   ]
  },
  {
   "cell_type": "code",
   "execution_count": 24,
   "id": "7b427f54",
   "metadata": {},
   "outputs": [
    {
     "name": "stdout",
     "output_type": "stream",
     "text": [
      "Outcome   0   1\n",
      "Age            \n",
      "21       58   5\n",
      "22       61  11\n",
      "23       31   7\n",
      "24       38   8\n",
      "25       34  14\n",
      "26       25   8\n",
      "27       24   8\n",
      "28       25  10\n",
      "29       16  13\n",
      "30       15   6\n",
      "31       11  13\n",
      "32        7   9\n",
      "33        7  10\n",
      "34       10   4\n",
      "35        5   5\n",
      "36        6  10\n",
      "37       13   6\n",
      "38        6  10\n",
      "39        9   3\n",
      "40        7   6\n",
      "41        9  13\n",
      "42       11   7\n",
      "43        2  11\n",
      "44        3   5\n",
      "45        7   8\n",
      "46        6   7\n",
      "47        2   4\n",
      "48        4   1\n",
      "49        2   3\n",
      "50        3   5\n",
      "51        3   5\n",
      "52        1   7\n",
      "53        1   4\n",
      "54        2   4\n",
      "55        3   1\n",
      "56        1   2\n",
      "57        4   1\n",
      "58        4   3\n",
      "59        1   2\n",
      "60        3   2\n",
      "61        1   1\n",
      "62        2   2\n",
      "63        4   0\n",
      "64        1   0\n",
      "65        3   0\n",
      "66        2   2\n",
      "67        2   1\n",
      "68        1   0\n",
      "69        2   0\n",
      "70        0   1\n",
      "72        1   0\n",
      "81        1   0\n"
     ]
    }
   ],
   "source": [
    "print(pd.crosstab(df.Age,df.Outcome))"
   ]
  },
  {
   "cell_type": "code",
   "execution_count": 14,
   "id": "cd3e9585",
   "metadata": {},
   "outputs": [],
   "source": [
    "from sklearn.metrics import accuracy_score\n",
    "acc = accuracy_score(y_pred,y_test)"
   ]
  },
  {
   "cell_type": "code",
   "execution_count": 15,
   "id": "78a28c98",
   "metadata": {},
   "outputs": [
    {
     "name": "stdout",
     "output_type": "stream",
     "text": [
      "0.8051948051948052\n"
     ]
    }
   ],
   "source": [
    "print(acc)"
   ]
  },
  {
   "cell_type": "code",
   "execution_count": 16,
   "id": "5078d04a",
   "metadata": {},
   "outputs": [],
   "source": [
    "from interpret.glassbox import ExplainableBoostingClassifier"
   ]
  },
  {
   "cell_type": "code",
   "execution_count": 19,
   "id": "2b65bb44",
   "metadata": {},
   "outputs": [
    {
     "data": {
      "text/plain": [
       "ExplainableBoostingClassifier(feature_names=['Pregnancies', 'Glucose',\n",
       "                                             'BloodPressure', 'SkinThickness',\n",
       "                                             'Insulin', 'BMI',\n",
       "                                             'DiabetesPedigreeFunction', 'Age',\n",
       "                                             'Glucose x Insulin',\n",
       "                                             'Glucose x SkinThickness',\n",
       "                                             'Glucose x BMI',\n",
       "                                             'Glucose x '\n",
       "                                             'DiabetesPedigreeFunction',\n",
       "                                             'Pregnancies x BMI',\n",
       "                                             'Glucose x BloodPressure',\n",
       "                                             'BloodPressure x BMI',\n",
       "                                             'Pregnancies x Age',\n",
       "                                             'BMI x DiabetesPedigreeFunction',\n",
       "                                             'Glucose x Age'],\n",
       "                              feature_types=['continuous', 'continuous',\n",
       "                                             'continuous', 'continuous',\n",
       "                                             'continuous', 'continuous',\n",
       "                                             'continuous', 'continuous',\n",
       "                                             'interaction', 'interaction',\n",
       "                                             'interaction', 'interaction',\n",
       "                                             'interaction', 'interaction',\n",
       "                                             'interaction', 'interaction',\n",
       "                                             'interaction', 'interaction'])"
      ]
     },
     "execution_count": 19,
     "metadata": {},
     "output_type": "execute_result"
    }
   ],
   "source": [
    "ebm = ExplainableBoostingClassifier()\n",
    "\n",
    "ebm.fit(X_train,y_train)"
   ]
  },
  {
   "cell_type": "code",
   "execution_count": 20,
   "id": "0016e326",
   "metadata": {},
   "outputs": [],
   "source": [
    "from interpret import show"
   ]
  },
  {
   "cell_type": "code",
   "execution_count": 22,
   "id": "a0cf78bd",
   "metadata": {},
   "outputs": [
    {
     "data": {
      "text/html": [
       "<!-- http://127.0.0.1:7001/140222549378576/ -->\n",
       "<iframe src=\"http://127.0.0.1:7001/140222549378576/\" width=100% height=800 frameBorder=\"0\"></iframe>"
      ]
     },
     "metadata": {},
     "output_type": "display_data"
    },
    {
     "name": "stderr",
     "output_type": "stream",
     "text": [
      "/home/tajasvi/anaconda3/envs/myenv/lib/python3.9/site-packages/interpret/visual/udash.py:5: UserWarning: \n",
      "The dash_html_components package is deprecated. Please replace\n",
      "`import dash_html_components as html` with `from dash import html`\n",
      "  import dash_html_components as html\n",
      "/home/tajasvi/anaconda3/envs/myenv/lib/python3.9/site-packages/interpret/visual/udash.py:6: UserWarning: \n",
      "The dash_core_components package is deprecated. Please replace\n",
      "`import dash_core_components as dcc` with `from dash import dcc`\n",
      "  import dash_core_components as dcc\n",
      "/home/tajasvi/anaconda3/envs/myenv/lib/python3.9/site-packages/interpret/visual/udash.py:7: UserWarning: \n",
      "The dash_table package is deprecated. Please replace\n",
      "`import dash_table` with `from dash import dash_table`\n",
      "\n",
      "Also, if you're using any of the table format helpers (e.g. Group), replace \n",
      "`from dash_table.Format import Group` with \n",
      "`from dash.dash_table.Format import Group`\n",
      "  import dash_table as dt\n"
     ]
    }
   ],
   "source": [
    "ebm_global = ebm.explain_global()\n",
    "\n",
    "show(ebm_global)"
   ]
  },
  {
   "cell_type": "code",
   "execution_count": 23,
   "id": "f3b74ed1",
   "metadata": {},
   "outputs": [
    {
     "data": {
      "text/html": [
       "<!-- http://127.0.0.1:7001/140224085933648/ -->\n",
       "<iframe src=\"http://127.0.0.1:7001/140224085933648/\" width=100% height=800 frameBorder=\"0\"></iframe>"
      ]
     },
     "metadata": {},
     "output_type": "display_data"
    }
   ],
   "source": [
    "ebm_local = ebm.explain_local(X_test,y_test)\n",
    "\n",
    "show(ebm_local)"
   ]
  },
  {
   "cell_type": "code",
   "execution_count": null,
   "id": "5169c07f",
   "metadata": {},
   "outputs": [],
   "source": []
  },
  {
   "cell_type": "code",
   "execution_count": null,
   "id": "2bdc6c49",
   "metadata": {},
   "outputs": [],
   "source": []
  },
  {
   "cell_type": "code",
   "execution_count": null,
   "id": "18aab553",
   "metadata": {},
   "outputs": [],
   "source": []
  },
  {
   "cell_type": "code",
   "execution_count": null,
   "id": "fc9eab9e",
   "metadata": {},
   "outputs": [],
   "source": []
  }
 ],
 "metadata": {
  "kernelspec": {
   "display_name": "Python 3 (ipykernel)",
   "language": "python",
   "name": "python3"
  },
  "language_info": {
   "codemirror_mode": {
    "name": "ipython",
    "version": 3
   },
   "file_extension": ".py",
   "mimetype": "text/x-python",
   "name": "python",
   "nbconvert_exporter": "python",
   "pygments_lexer": "ipython3",
   "version": "3.9.11"
  }
 },
 "nbformat": 4,
 "nbformat_minor": 5
}
